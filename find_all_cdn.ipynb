{
 "cells": [
  {
   "cell_type": "code",
   "execution_count": 1,
   "metadata": {},
   "outputs": [],
   "source": [
    "import pandas as pd\n",
    "import numpy as np\n",
    "import subprocess\n",
    "from io import StringIO"
   ]
  },
  {
   "cell_type": "code",
   "execution_count": 77,
   "metadata": {},
   "outputs": [],
   "source": [
    "project_list_str = \"\"\"\n",
    "dave-selfstudy01\n",
    "tower-of-fantasy\n",
    "\"\"\""
   ]
  },
  {
   "cell_type": "code",
   "execution_count": 79,
   "metadata": {},
   "outputs": [
    {
     "data": {
      "text/plain": [
       "['dave-selfstudy01', 'tower-of-fantasy']"
      ]
     },
     "execution_count": 79,
     "metadata": {},
     "output_type": "execute_result"
    }
   ],
   "source": [
    "project_list = project_list_str.split()\n",
    "project_list"
   ]
  },
  {
   "cell_type": "code",
   "execution_count": 43,
   "metadata": {},
   "outputs": [],
   "source": [
    "project_id = 'dave-selfstudy01'\n",
    "# project_id = 'tower-of-fantasy'"
   ]
  },
  {
   "cell_type": "code",
   "execution_count": 80,
   "metadata": {},
   "outputs": [],
   "source": [
    "def get_all_cdn(project_id):\n",
    "    get_url_cmd = \"\"\"gcloud compute url-maps list \\\n",
    "        --format \"csv[no-heading](name,DEFAULT_SERVICE,pathMatchers.defaultService)\" \\\n",
    "        --project {}\n",
    "    \"\"\".format(project_id)\n",
    "    output = subprocess.getoutput(get_url_cmd)\n",
    "    df_url = pd.read_csv(StringIO(output), names=['name','default_service','other_service'])\n",
    "    df_url = df_url.fillna('nan')\n",
    "    df_url['other_service'] = df_url.other_service.apply(lambda x: x.split('/')[-1])\n",
    "    df_url['default_service'] = df_url.default_service.apply(lambda x: x.split('/')[-1])\n",
    "\n",
    "    get_bs_cmd = \"\"\"gcloud compute backend-services list \\\n",
    "        --format=\"csv[no-heading](NAME,enableCDN)\" \\\n",
    "        --project {}\n",
    "    \"\"\".format(project_id)\n",
    "    output = subprocess.getoutput(get_bs_cmd)\n",
    "    df_bs = pd.read_csv(StringIO(output), names=['name','enabled_cdn'])\n",
    "\n",
    "    get_bb_cmd = \"\"\"gcloud compute backend-buckets list \\\n",
    "        --format=\"csv[no-heading](NAME,enableCdn)\" \\\n",
    "        --project {}\n",
    "    \"\"\".format(project_id)\n",
    "    output = subprocess.getoutput(get_bb_cmd)\n",
    "    df_bb = pd.read_csv(StringIO(output), names=['name','enabled_cdn'])\n",
    "\n",
    "    df_bbb = pd.concat([df_bs, df_bb]).reset_index(drop=True)\n",
    "\n",
    "    services = []\n",
    "    lbs = []\n",
    "    for index, row in df_url.iterrows():\n",
    "        services.append(row['default_service'])\n",
    "        lbs.append(row['name'])\n",
    "        if row['other_service'] != 'nan':\n",
    "            services.append(row['other_service'])\n",
    "            lbs.append(row['name'])\n",
    "        else:\n",
    "            pass\n",
    "    \n",
    "    df1 = pd.DataFrame({\"services\": services, \"lbs\": lbs})\n",
    "    df_stat = pd.merge(df1, df_bbb, how='left', left_on='services', right_on='name')\n",
    "    return df_stat[df_stat.enabled_cdn == True][['lbs', 'services', 'enabled_cdn']]\n",
    "    \n",
    "\n",
    "    "
   ]
  },
  {
   "cell_type": "code",
   "execution_count": 84,
   "metadata": {},
   "outputs": [
    {
     "data": {
      "text/html": [
       "<div>\n",
       "<style scoped>\n",
       "    .dataframe tbody tr th:only-of-type {\n",
       "        vertical-align: middle;\n",
       "    }\n",
       "\n",
       "    .dataframe tbody tr th {\n",
       "        vertical-align: top;\n",
       "    }\n",
       "\n",
       "    .dataframe thead th {\n",
       "        text-align: right;\n",
       "    }\n",
       "</style>\n",
       "<table border=\"1\" class=\"dataframe\">\n",
       "  <thead>\n",
       "    <tr style=\"text-align: right;\">\n",
       "      <th></th>\n",
       "      <th>lbs</th>\n",
       "      <th>services</th>\n",
       "      <th>enabled_cdn</th>\n",
       "    </tr>\n",
       "  </thead>\n",
       "  <tbody>\n",
       "    <tr>\n",
       "      <th>0</th>\n",
       "      <td>http-lb01</td>\n",
       "      <td>hzchen-us</td>\n",
       "      <td>True</td>\n",
       "    </tr>\n",
       "    <tr>\n",
       "      <th>1</th>\n",
       "      <td>http-lb02</td>\n",
       "      <td>backend-bwglosbas01</td>\n",
       "      <td>True</td>\n",
       "    </tr>\n",
       "    <tr>\n",
       "      <th>2</th>\n",
       "      <td>fantasy-gcp-cdn</td>\n",
       "      <td>fantasy-copy-upload</td>\n",
       "      <td>True</td>\n",
       "    </tr>\n",
       "  </tbody>\n",
       "</table>\n",
       "</div>"
      ],
      "text/plain": [
       "               lbs             services enabled_cdn\n",
       "0        http-lb01            hzchen-us        True\n",
       "1        http-lb02  backend-bwglosbas01        True\n",
       "2  fantasy-gcp-cdn  fantasy-copy-upload        True"
      ]
     },
     "execution_count": 84,
     "metadata": {},
     "output_type": "execute_result"
    }
   ],
   "source": [
    "df = pd.concat([get_all_cdn(x) for x in project_list]).reset_index(drop=True)\n",
    "df.head()"
   ]
  },
  {
   "cell_type": "markdown",
   "metadata": {},
   "source": [
    "# Get HTTPs LB for each project id"
   ]
  },
  {
   "cell_type": "code",
   "execution_count": 44,
   "metadata": {},
   "outputs": [],
   "source": [
    "get_url_cmd = \"\"\"gcloud compute url-maps list \\\n",
    "    --format \"csv[no-heading](name,DEFAULT_SERVICE,pathMatchers.defaultService)\" \\\n",
    "    --project {}\n",
    "\"\"\".format(project_id)"
   ]
  },
  {
   "cell_type": "code",
   "execution_count": 45,
   "metadata": {},
   "outputs": [
    {
     "name": "stdout",
     "output_type": "stream",
     "text": [
      "http-lb01,backendBuckets/hzchen-us,https://www.googleapis.com/compute/v1/projects/dave-selfstudy01/global/backendServices/webdemo-bs\n",
      "http-lb02,backendServices/backend-bwglosbas01,\n"
     ]
    }
   ],
   "source": [
    "output = subprocess.getoutput(get_url_cmd)\n",
    "print(output)"
   ]
  },
  {
   "cell_type": "code",
   "execution_count": 53,
   "metadata": {},
   "outputs": [
    {
     "data": {
      "text/html": [
       "<div>\n",
       "<style scoped>\n",
       "    .dataframe tbody tr th:only-of-type {\n",
       "        vertical-align: middle;\n",
       "    }\n",
       "\n",
       "    .dataframe tbody tr th {\n",
       "        vertical-align: top;\n",
       "    }\n",
       "\n",
       "    .dataframe thead th {\n",
       "        text-align: right;\n",
       "    }\n",
       "</style>\n",
       "<table border=\"1\" class=\"dataframe\">\n",
       "  <thead>\n",
       "    <tr style=\"text-align: right;\">\n",
       "      <th></th>\n",
       "      <th>name</th>\n",
       "      <th>default_service</th>\n",
       "      <th>other_service</th>\n",
       "    </tr>\n",
       "  </thead>\n",
       "  <tbody>\n",
       "    <tr>\n",
       "      <th>0</th>\n",
       "      <td>http-lb01</td>\n",
       "      <td>backendBuckets/hzchen-us</td>\n",
       "      <td>https://www.googleapis.com/compute/v1/projects...</td>\n",
       "    </tr>\n",
       "    <tr>\n",
       "      <th>1</th>\n",
       "      <td>http-lb02</td>\n",
       "      <td>backendServices/backend-bwglosbas01</td>\n",
       "      <td>NaN</td>\n",
       "    </tr>\n",
       "  </tbody>\n",
       "</table>\n",
       "</div>"
      ],
      "text/plain": [
       "        name                      default_service  \\\n",
       "0  http-lb01             backendBuckets/hzchen-us   \n",
       "1  http-lb02  backendServices/backend-bwglosbas01   \n",
       "\n",
       "                                       other_service  \n",
       "0  https://www.googleapis.com/compute/v1/projects...  \n",
       "1                                                NaN  "
      ]
     },
     "execution_count": 53,
     "metadata": {},
     "output_type": "execute_result"
    }
   ],
   "source": [
    "df_url = pd.read_csv(StringIO(output), names=['name','default_service','other_service'])\n",
    "df_url.head()"
   ]
  },
  {
   "cell_type": "markdown",
   "metadata": {},
   "source": [
    "# Get backend services with CDN enabled"
   ]
  },
  {
   "cell_type": "code",
   "execution_count": 16,
   "metadata": {},
   "outputs": [],
   "source": [
    "get_bs_cmd = \"\"\"gcloud compute backend-services list \\\n",
    "    --format=\"csv[no-heading](NAME,enableCDN)\" \\\n",
    "    --project {}\n",
    "\"\"\".format(project_id)"
   ]
  },
  {
   "cell_type": "code",
   "execution_count": 17,
   "metadata": {},
   "outputs": [
    {
     "name": "stdout",
     "output_type": "stream",
     "text": [
      "backend-bwglosbas01,True\n",
      "webdemo-bs,False\n"
     ]
    }
   ],
   "source": [
    "output = subprocess.getoutput(get_bs_cmd)\n",
    "print(output)"
   ]
  },
  {
   "cell_type": "code",
   "execution_count": 18,
   "metadata": {},
   "outputs": [
    {
     "data": {
      "text/html": [
       "<div>\n",
       "<style scoped>\n",
       "    .dataframe tbody tr th:only-of-type {\n",
       "        vertical-align: middle;\n",
       "    }\n",
       "\n",
       "    .dataframe tbody tr th {\n",
       "        vertical-align: top;\n",
       "    }\n",
       "\n",
       "    .dataframe thead th {\n",
       "        text-align: right;\n",
       "    }\n",
       "</style>\n",
       "<table border=\"1\" class=\"dataframe\">\n",
       "  <thead>\n",
       "    <tr style=\"text-align: right;\">\n",
       "      <th></th>\n",
       "      <th>name</th>\n",
       "      <th>enabled_cdn</th>\n",
       "    </tr>\n",
       "  </thead>\n",
       "  <tbody>\n",
       "    <tr>\n",
       "      <th>0</th>\n",
       "      <td>backend-bwglosbas01</td>\n",
       "      <td>True</td>\n",
       "    </tr>\n",
       "    <tr>\n",
       "      <th>1</th>\n",
       "      <td>webdemo-bs</td>\n",
       "      <td>False</td>\n",
       "    </tr>\n",
       "  </tbody>\n",
       "</table>\n",
       "</div>"
      ],
      "text/plain": [
       "                  name  enabled_cdn\n",
       "0  backend-bwglosbas01         True\n",
       "1           webdemo-bs        False"
      ]
     },
     "execution_count": 18,
     "metadata": {},
     "output_type": "execute_result"
    }
   ],
   "source": [
    "df_bs = pd.read_csv(StringIO(output), names=['name','enabled_cdn'])\n",
    "df_bs.head()"
   ]
  },
  {
   "cell_type": "markdown",
   "metadata": {},
   "source": [
    "# Get backend buckets with CDN enabled"
   ]
  },
  {
   "cell_type": "code",
   "execution_count": 19,
   "metadata": {},
   "outputs": [],
   "source": [
    "get_bb_cmd = \"\"\"gcloud compute backend-buckets list \\\n",
    "    --format=\"csv[no-heading](NAME,enableCdn)\" \\\n",
    "    --project {}\n",
    "\"\"\".format(project_id)"
   ]
  },
  {
   "cell_type": "code",
   "execution_count": 20,
   "metadata": {},
   "outputs": [
    {
     "name": "stdout",
     "output_type": "stream",
     "text": [
      "hzchen-us,True\n"
     ]
    }
   ],
   "source": [
    "output = subprocess.getoutput(get_bb_cmd)\n",
    "print(output)"
   ]
  },
  {
   "cell_type": "code",
   "execution_count": 21,
   "metadata": {},
   "outputs": [
    {
     "data": {
      "text/html": [
       "<div>\n",
       "<style scoped>\n",
       "    .dataframe tbody tr th:only-of-type {\n",
       "        vertical-align: middle;\n",
       "    }\n",
       "\n",
       "    .dataframe tbody tr th {\n",
       "        vertical-align: top;\n",
       "    }\n",
       "\n",
       "    .dataframe thead th {\n",
       "        text-align: right;\n",
       "    }\n",
       "</style>\n",
       "<table border=\"1\" class=\"dataframe\">\n",
       "  <thead>\n",
       "    <tr style=\"text-align: right;\">\n",
       "      <th></th>\n",
       "      <th>name</th>\n",
       "      <th>enabled_cdn</th>\n",
       "    </tr>\n",
       "  </thead>\n",
       "  <tbody>\n",
       "    <tr>\n",
       "      <th>0</th>\n",
       "      <td>hzchen-us</td>\n",
       "      <td>True</td>\n",
       "    </tr>\n",
       "  </tbody>\n",
       "</table>\n",
       "</div>"
      ],
      "text/plain": [
       "        name  enabled_cdn\n",
       "0  hzchen-us         True"
      ]
     },
     "execution_count": 21,
     "metadata": {},
     "output_type": "execute_result"
    }
   ],
   "source": [
    "df_bb = pd.read_csv(StringIO(output), names=['name','enabled_cdn'])\n",
    "df_bb.head()"
   ]
  },
  {
   "cell_type": "code",
   "execution_count": 26,
   "metadata": {},
   "outputs": [
    {
     "data": {
      "text/html": [
       "<div>\n",
       "<style scoped>\n",
       "    .dataframe tbody tr th:only-of-type {\n",
       "        vertical-align: middle;\n",
       "    }\n",
       "\n",
       "    .dataframe tbody tr th {\n",
       "        vertical-align: top;\n",
       "    }\n",
       "\n",
       "    .dataframe thead th {\n",
       "        text-align: right;\n",
       "    }\n",
       "</style>\n",
       "<table border=\"1\" class=\"dataframe\">\n",
       "  <thead>\n",
       "    <tr style=\"text-align: right;\">\n",
       "      <th></th>\n",
       "      <th>name</th>\n",
       "      <th>enabled_cdn</th>\n",
       "    </tr>\n",
       "  </thead>\n",
       "  <tbody>\n",
       "    <tr>\n",
       "      <th>0</th>\n",
       "      <td>backend-bwglosbas01</td>\n",
       "      <td>True</td>\n",
       "    </tr>\n",
       "    <tr>\n",
       "      <th>1</th>\n",
       "      <td>webdemo-bs</td>\n",
       "      <td>False</td>\n",
       "    </tr>\n",
       "    <tr>\n",
       "      <th>2</th>\n",
       "      <td>hzchen-us</td>\n",
       "      <td>True</td>\n",
       "    </tr>\n",
       "  </tbody>\n",
       "</table>\n",
       "</div>"
      ],
      "text/plain": [
       "                  name  enabled_cdn\n",
       "0  backend-bwglosbas01         True\n",
       "1           webdemo-bs        False\n",
       "2            hzchen-us         True"
      ]
     },
     "execution_count": 26,
     "metadata": {},
     "output_type": "execute_result"
    }
   ],
   "source": [
    "df_bbb = pd.concat([df_bs, df_bb]).reset_index(drop=True)\n",
    "df_bbb.head()"
   ]
  },
  {
   "cell_type": "code",
   "execution_count": 54,
   "metadata": {},
   "outputs": [
    {
     "data": {
      "text/html": [
       "<div>\n",
       "<style scoped>\n",
       "    .dataframe tbody tr th:only-of-type {\n",
       "        vertical-align: middle;\n",
       "    }\n",
       "\n",
       "    .dataframe tbody tr th {\n",
       "        vertical-align: top;\n",
       "    }\n",
       "\n",
       "    .dataframe thead th {\n",
       "        text-align: right;\n",
       "    }\n",
       "</style>\n",
       "<table border=\"1\" class=\"dataframe\">\n",
       "  <thead>\n",
       "    <tr style=\"text-align: right;\">\n",
       "      <th></th>\n",
       "      <th>name</th>\n",
       "      <th>default_service</th>\n",
       "      <th>other_service</th>\n",
       "    </tr>\n",
       "  </thead>\n",
       "  <tbody>\n",
       "    <tr>\n",
       "      <th>0</th>\n",
       "      <td>http-lb01</td>\n",
       "      <td>backendBuckets/hzchen-us</td>\n",
       "      <td>https://www.googleapis.com/compute/v1/projects...</td>\n",
       "    </tr>\n",
       "    <tr>\n",
       "      <th>1</th>\n",
       "      <td>http-lb02</td>\n",
       "      <td>backendServices/backend-bwglosbas01</td>\n",
       "      <td>NaN</td>\n",
       "    </tr>\n",
       "  </tbody>\n",
       "</table>\n",
       "</div>"
      ],
      "text/plain": [
       "        name                      default_service  \\\n",
       "0  http-lb01             backendBuckets/hzchen-us   \n",
       "1  http-lb02  backendServices/backend-bwglosbas01   \n",
       "\n",
       "                                       other_service  \n",
       "0  https://www.googleapis.com/compute/v1/projects...  \n",
       "1                                                NaN  "
      ]
     },
     "execution_count": 54,
     "metadata": {},
     "output_type": "execute_result"
    }
   ],
   "source": [
    "df_url.head()"
   ]
  },
  {
   "cell_type": "code",
   "execution_count": 55,
   "metadata": {},
   "outputs": [],
   "source": [
    "df_url = df_url.fillna('nan')\n",
    "df_url['other_service'] = df_url.other_service.apply(lambda x: x.split('/')[-1])\n",
    "df_url['default_service'] = df_url.default_service.apply(lambda x: x.split('/')[-1])"
   ]
  },
  {
   "cell_type": "code",
   "execution_count": 56,
   "metadata": {},
   "outputs": [
    {
     "data": {
      "text/html": [
       "<div>\n",
       "<style scoped>\n",
       "    .dataframe tbody tr th:only-of-type {\n",
       "        vertical-align: middle;\n",
       "    }\n",
       "\n",
       "    .dataframe tbody tr th {\n",
       "        vertical-align: top;\n",
       "    }\n",
       "\n",
       "    .dataframe thead th {\n",
       "        text-align: right;\n",
       "    }\n",
       "</style>\n",
       "<table border=\"1\" class=\"dataframe\">\n",
       "  <thead>\n",
       "    <tr style=\"text-align: right;\">\n",
       "      <th></th>\n",
       "      <th>name</th>\n",
       "      <th>default_service</th>\n",
       "      <th>other_service</th>\n",
       "    </tr>\n",
       "  </thead>\n",
       "  <tbody>\n",
       "    <tr>\n",
       "      <th>0</th>\n",
       "      <td>http-lb01</td>\n",
       "      <td>hzchen-us</td>\n",
       "      <td>webdemo-bs</td>\n",
       "    </tr>\n",
       "    <tr>\n",
       "      <th>1</th>\n",
       "      <td>http-lb02</td>\n",
       "      <td>backend-bwglosbas01</td>\n",
       "      <td>nan</td>\n",
       "    </tr>\n",
       "  </tbody>\n",
       "</table>\n",
       "</div>"
      ],
      "text/plain": [
       "        name      default_service other_service\n",
       "0  http-lb01            hzchen-us    webdemo-bs\n",
       "1  http-lb02  backend-bwglosbas01           nan"
      ]
     },
     "execution_count": 56,
     "metadata": {},
     "output_type": "execute_result"
    }
   ],
   "source": [
    "df_url"
   ]
  },
  {
   "cell_type": "code",
   "execution_count": 57,
   "metadata": {},
   "outputs": [
    {
     "name": "stdout",
     "output_type": "stream",
     "text": [
      "hzchen-us webdemo-bs http-lb01\n",
      "backend-bwglosbas01 nan http-lb02\n"
     ]
    }
   ],
   "source": [
    "for index, row in df_url.iterrows():\n",
    "    print(row['default_service'], row['other_service'], row['name'])"
   ]
  },
  {
   "cell_type": "code",
   "execution_count": 59,
   "metadata": {},
   "outputs": [
    {
     "data": {
      "text/plain": [
       "(3, 3)"
      ]
     },
     "execution_count": 59,
     "metadata": {},
     "output_type": "execute_result"
    }
   ],
   "source": [
    "services = []\n",
    "lbs = []\n",
    "for index, row in df_url.iterrows():\n",
    "    services.append(row['default_service'])\n",
    "    lbs.append(row['name'])\n",
    "    if row['other_service'] != 'nan':\n",
    "        services.append(row['other_service'])\n",
    "        lbs.append(row['name'])\n",
    "    else:\n",
    "        pass\n",
    "\n",
    "len(services), len(lbs)"
   ]
  },
  {
   "cell_type": "code",
   "execution_count": 76,
   "metadata": {},
   "outputs": [
    {
     "data": {
      "text/html": [
       "<div>\n",
       "<style scoped>\n",
       "    .dataframe tbody tr th:only-of-type {\n",
       "        vertical-align: middle;\n",
       "    }\n",
       "\n",
       "    .dataframe tbody tr th {\n",
       "        vertical-align: top;\n",
       "    }\n",
       "\n",
       "    .dataframe thead th {\n",
       "        text-align: right;\n",
       "    }\n",
       "</style>\n",
       "<table border=\"1\" class=\"dataframe\">\n",
       "  <thead>\n",
       "    <tr style=\"text-align: right;\">\n",
       "      <th></th>\n",
       "      <th>lbs</th>\n",
       "      <th>services</th>\n",
       "      <th>enabled_cdn</th>\n",
       "    </tr>\n",
       "  </thead>\n",
       "  <tbody>\n",
       "    <tr>\n",
       "      <th>0</th>\n",
       "      <td>http-lb01</td>\n",
       "      <td>hzchen-us</td>\n",
       "      <td>True</td>\n",
       "    </tr>\n",
       "    <tr>\n",
       "      <th>2</th>\n",
       "      <td>http-lb02</td>\n",
       "      <td>backend-bwglosbas01</td>\n",
       "      <td>True</td>\n",
       "    </tr>\n",
       "  </tbody>\n",
       "</table>\n",
       "</div>"
      ],
      "text/plain": [
       "         lbs             services  enabled_cdn\n",
       "0  http-lb01            hzchen-us         True\n",
       "2  http-lb02  backend-bwglosbas01         True"
      ]
     },
     "execution_count": 76,
     "metadata": {},
     "output_type": "execute_result"
    }
   ],
   "source": [
    "df1 = pd.DataFrame({\"services\": services, \"lbs\": lbs})\n",
    "df_stat = pd.merge(df1, df_bbb, how='left', left_on='services', right_on='name')\n",
    "df_stat[df_stat.enabled_cdn == True][['lbs', 'services', 'enabled_cdn']]"
   ]
  },
  {
   "cell_type": "code",
   "execution_count": null,
   "metadata": {},
   "outputs": [],
   "source": []
  }
 ],
 "metadata": {
  "kernelspec": {
   "display_name": "Python 3.8.13 64-bit",
   "language": "python",
   "name": "python3"
  },
  "language_info": {
   "codemirror_mode": {
    "name": "ipython",
    "version": 3
   },
   "file_extension": ".py",
   "mimetype": "text/x-python",
   "name": "python",
   "nbconvert_exporter": "python",
   "pygments_lexer": "ipython3",
   "version": "3.8.13"
  },
  "orig_nbformat": 4,
  "vscode": {
   "interpreter": {
    "hash": "a5a681d640370691eeb51db831b2d1f8e802346c4c7b7120f453924da6d7895d"
   }
  }
 },
 "nbformat": 4,
 "nbformat_minor": 2
}
