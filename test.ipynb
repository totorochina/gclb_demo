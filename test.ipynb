{
 "cells": [
  {
   "cell_type": "code",
   "execution_count": 1,
   "metadata": {},
   "outputs": [],
   "source": [
    "from google.cloud import compute_v1\n"
   ]
  },
  {
   "cell_type": "code",
   "execution_count": 2,
   "metadata": {},
   "outputs": [],
   "source": [
    "project_id = 'tower-of-fantasy'\n",
    "zone = 'us-central1-a'"
   ]
  },
  {
   "cell_type": "code",
   "execution_count": null,
   "metadata": {},
   "outputs": [],
   "source": [
    "instance_client = compute_v1.InstancesClient()\n",
    "instance_list = instance_client.list(project=project_id, zone=zone)"
   ]
  },
  {
   "cell_type": "code",
   "execution_count": null,
   "metadata": {},
   "outputs": [],
   "source": [
    "instance_list.items[0]"
   ]
  },
  {
   "cell_type": "code",
   "execution_count": null,
   "metadata": {},
   "outputs": [],
   "source": [
    "instance_list.items[0].name"
   ]
  },
  {
   "cell_type": "code",
   "execution_count": null,
   "metadata": {},
   "outputs": [],
   "source": [
    "instance_list.items[0].zone.split('/')[-1]"
   ]
  },
  {
   "cell_type": "code",
   "execution_count": null,
   "metadata": {},
   "outputs": [],
   "source": [
    "instance_list.items[0].network_interfaces[0].access_configs[0].nat_i_p"
   ]
  },
  {
   "cell_type": "code",
   "execution_count": null,
   "metadata": {},
   "outputs": [],
   "source": [
    "instance_list.items[0].network_interfaces[0].network_i_p"
   ]
  },
  {
   "cell_type": "code",
   "execution_count": null,
   "metadata": {},
   "outputs": [],
   "source": [
    "zone_client = compute_v1.ZonesClient()\n",
    "zone_list = zone_client.list(project=project_id)"
   ]
  },
  {
   "cell_type": "code",
   "execution_count": null,
   "metadata": {},
   "outputs": [],
   "source": [
    "zone_list.items[0].name"
   ]
  },
  {
   "cell_type": "code",
   "execution_count": null,
   "metadata": {},
   "outputs": [],
   "source": [
    "[i.name for i in zone_list.items if 'us-central1' in i.name]"
   ]
  },
  {
   "cell_type": "code",
   "execution_count": 3,
   "metadata": {},
   "outputs": [],
   "source": [
    "ig_client = compute_v1.InstanceGroupsClient()\n",
    "ig_list = ig_client.list(project=project_id, zone=zone)"
   ]
  },
  {
   "cell_type": "code",
   "execution_count": 4,
   "metadata": {},
   "outputs": [
    {
     "data": {
      "text/plain": [
       "id: 5163456634700685283\n",
       "kind: \"compute#instanceGroup\"\n",
       "name: \"fantasy-gods-https-backend\"\n",
       "size: 1\n",
       "zone: \"https://www.googleapis.com/compute/v1/projects/tower-of-fantasy/zones/us-central1-a\"\n",
       "creation_timestamp: \"2022-07-22T01:34:20.289-07:00\"\n",
       "network: \"https://www.googleapis.com/compute/v1/projects/tower-of-fantasy/global/networks/fanstasy-prod-vpc\"\n",
       "fingerprint: \"1bvPxesrojk=\"\n",
       "subnetwork: \"https://www.googleapis.com/compute/v1/projects/tower-of-fantasy/regions/us-central1/subnetworks/fanstasy-na-subnet\"\n",
       "description: \"\"\n",
       "named_ports {\n",
       "  name: \"fantasygdos\"\n",
       "  port: 80\n",
       "}\n",
       "named_ports {\n",
       "  name: \"gdosprot\"\n",
       "  port: 80\n",
       "}\n",
       "named_ports {\n",
       "  name: \"port-10002\"\n",
       "  port: 10002\n",
       "}\n",
       "self_link: \"https://www.googleapis.com/compute/v1/projects/tower-of-fantasy/zones/us-central1-a/instanceGroups/fantasy-gods-https-backend\""
      ]
     },
     "execution_count": 4,
     "metadata": {},
     "output_type": "execute_result"
    }
   ],
   "source": [
    "ig_list.items[0]"
   ]
  },
  {
   "cell_type": "code",
   "execution_count": 13,
   "metadata": {},
   "outputs": [
    {
     "ename": "TypeError",
     "evalue": "Invalid constructor input for ListInstancesInstanceGroupsRequest: '/projects/tower-of-fantasy/zones/us-central1-a/instanceGroups/fantasy-gods-https-backend'",
     "output_type": "error",
     "traceback": [
      "\u001b[0;31m---------------------------------------------------------------------------\u001b[0m",
      "\u001b[0;31mTypeError\u001b[0m                                 Traceback (most recent call last)",
      "\u001b[0;32m/var/folders/rc/9fkm75h56f9fvyc8_3137tdm00tgst/T/ipykernel_45895/4133011152.py\u001b[0m in \u001b[0;36m<module>\u001b[0;34m\u001b[0m\n\u001b[0;32m----> 1\u001b[0;31m \u001b[0mig_client\u001b[0m\u001b[0;34m.\u001b[0m\u001b[0mlist_instances\u001b[0m\u001b[0;34m(\u001b[0m\u001b[0;34m\"/projects/tower-of-fantasy/zones/us-central1-a/instanceGroups/fantasy-gods-https-backend\"\u001b[0m\u001b[0;34m)\u001b[0m\u001b[0;34m\u001b[0m\u001b[0;34m\u001b[0m\u001b[0m\n\u001b[0m",
      "\u001b[0;32m~/gcp/lib/python3.8/site-packages/google/cloud/compute_v1/services/instance_groups/client.py\u001b[0m in \u001b[0;36mlist_instances\u001b[0;34m(self, request, project, zone, instance_group, instance_groups_list_instances_request_resource, retry, timeout, metadata)\u001b[0m\n\u001b[1;32m   1517\u001b[0m         \u001b[0;31m# there are no flattened fields.\u001b[0m\u001b[0;34m\u001b[0m\u001b[0;34m\u001b[0m\u001b[0;34m\u001b[0m\u001b[0m\n\u001b[1;32m   1518\u001b[0m         \u001b[0;32mif\u001b[0m \u001b[0;32mnot\u001b[0m \u001b[0misinstance\u001b[0m\u001b[0;34m(\u001b[0m\u001b[0mrequest\u001b[0m\u001b[0;34m,\u001b[0m \u001b[0mcompute\u001b[0m\u001b[0;34m.\u001b[0m\u001b[0mListInstancesInstanceGroupsRequest\u001b[0m\u001b[0;34m)\u001b[0m\u001b[0;34m:\u001b[0m\u001b[0;34m\u001b[0m\u001b[0;34m\u001b[0m\u001b[0m\n\u001b[0;32m-> 1519\u001b[0;31m             \u001b[0mrequest\u001b[0m \u001b[0;34m=\u001b[0m \u001b[0mcompute\u001b[0m\u001b[0;34m.\u001b[0m\u001b[0mListInstancesInstanceGroupsRequest\u001b[0m\u001b[0;34m(\u001b[0m\u001b[0mrequest\u001b[0m\u001b[0;34m)\u001b[0m\u001b[0;34m\u001b[0m\u001b[0;34m\u001b[0m\u001b[0m\n\u001b[0m\u001b[1;32m   1520\u001b[0m             \u001b[0;31m# If we have keyword arguments corresponding to fields on the\u001b[0m\u001b[0;34m\u001b[0m\u001b[0;34m\u001b[0m\u001b[0;34m\u001b[0m\u001b[0m\n\u001b[1;32m   1521\u001b[0m             \u001b[0;31m# request, apply these.\u001b[0m\u001b[0;34m\u001b[0m\u001b[0;34m\u001b[0m\u001b[0;34m\u001b[0m\u001b[0m\n",
      "\u001b[0;32m~/gcp/lib/python3.8/site-packages/proto/message.py\u001b[0m in \u001b[0;36m__init__\u001b[0;34m(self, mapping, ignore_unknown_fields, **kwargs)\u001b[0m\n\u001b[1;32m    540\u001b[0m         \u001b[0;32melse\u001b[0m\u001b[0;34m:\u001b[0m\u001b[0;34m\u001b[0m\u001b[0;34m\u001b[0m\u001b[0m\n\u001b[1;32m    541\u001b[0m             \u001b[0;31m# Sanity check: Did we get something not a map? Error if so.\u001b[0m\u001b[0;34m\u001b[0m\u001b[0;34m\u001b[0m\u001b[0;34m\u001b[0m\u001b[0m\n\u001b[0;32m--> 542\u001b[0;31m             raise TypeError(\n\u001b[0m\u001b[1;32m    543\u001b[0m                 \u001b[0;34m\"Invalid constructor input for %s: %r\"\u001b[0m\u001b[0;34m\u001b[0m\u001b[0;34m\u001b[0m\u001b[0m\n\u001b[1;32m    544\u001b[0m                 % (\n",
      "\u001b[0;31mTypeError\u001b[0m: Invalid constructor input for ListInstancesInstanceGroupsRequest: '/projects/tower-of-fantasy/zones/us-central1-a/instanceGroups/fantasy-gods-https-backend'"
     ]
    }
   ],
   "source": [
    "ig_client.list_instances(\"/projects/tower-of-fantasy/zones/us-central1-a/instanceGroups/fantasy-gods-https-backend\")"
   ]
  },
  {
   "cell_type": "code",
   "execution_count": 15,
   "metadata": {},
   "outputs": [
    {
     "ename": "SyntaxError",
     "evalue": "invalid syntax (2413943796.py, line 1)",
     "output_type": "error",
     "traceback": [
      "\u001b[0;36m  File \u001b[0;32m\"/var/folders/rc/9fkm75h56f9fvyc8_3137tdm00tgst/T/ipykernel_45895/2413943796.py\"\u001b[0;36m, line \u001b[0;32m1\u001b[0m\n\u001b[0;31m    ig_client.list_instances(request={zone=\"us-central1-a\", instance_group=\"fantasy-gods-https-backend\"})\u001b[0m\n\u001b[0m                                          ^\u001b[0m\n\u001b[0;31mSyntaxError\u001b[0m\u001b[0;31m:\u001b[0m invalid syntax\n"
     ]
    }
   ],
   "source": [
    "ig_client.list_instances(request=)"
   ]
  },
  {
   "cell_type": "code",
   "execution_count": null,
   "metadata": {},
   "outputs": [],
   "source": [
    "ig_client.aggregated_list(project=project_id)"
   ]
  },
  {
   "cell_type": "code",
   "execution_count": 25,
   "metadata": {},
   "outputs": [],
   "source": [
    "request = compute_v1.ListInstanceGroupsRequest"
   ]
  },
  {
   "cell_type": "code",
   "execution_count": 26,
   "metadata": {},
   "outputs": [],
   "source": [
    "request.project = 'tower-of-fantasy'\n",
    "request.zone = 'us-central1-a'"
   ]
  },
  {
   "cell_type": "code",
   "execution_count": 22,
   "metadata": {},
   "outputs": [
    {
     "name": "stdout",
     "output_type": "stream",
     "text": [
      "Help on class ListInstanceGroupsRequest in module google.cloud.compute_v1.types.compute:\n",
      "\n",
      "class ListInstanceGroupsRequest(proto.message.Message)\n",
      " |  ListInstanceGroupsRequest(mapping=None, *, ignore_unknown_fields=False, **kwargs)\n",
      " |  \n",
      " |  A request message for InstanceGroups.List. See the method\n",
      " |  description for details.\n",
      " |  \n",
      " |  Attributes:\n",
      " |      filter (str):\n",
      " |          A filter expression that filters resources listed in the\n",
      " |          response. Most Compute resources support two types of filter\n",
      " |          expressions: expressions that support regular expressions\n",
      " |          and expressions that follow API improvement proposal\n",
      " |          AIP-160. If you want to use AIP-160, your expression must\n",
      " |          specify the field name, an operator, and the value that you\n",
      " |          want to use for filtering. The value must be a string, a\n",
      " |          number, or a boolean. The operator must be either ``=``,\n",
      " |          ``!=``, ``>``, ``<``, ``<=``, ``>=`` or ``:``. For example,\n",
      " |          if you are filtering Compute Engine instances, you can\n",
      " |          exclude instances named ``example-instance`` by specifying\n",
      " |          ``name != example-instance``. The ``:`` operator can be used\n",
      " |          with string fields to match substrings. For non-string\n",
      " |          fields it is equivalent to the ``=`` operator. The ``:*``\n",
      " |          comparison can be used to test whether a key has been\n",
      " |          defined. For example, to find all objects with ``owner``\n",
      " |          label use: ``labels.owner:*`` You can also filter nested\n",
      " |          fields. For example, you could specify\n",
      " |          ``scheduling.automaticRestart = false`` to include instances\n",
      " |          only if they are not scheduled for automatic restarts. You\n",
      " |          can use filtering on nested fields to filter based on\n",
      " |          resource labels. To filter on multiple expressions, provide\n",
      " |          each separate expression within parentheses. For example:\n",
      " |          ``(scheduling.automaticRestart = true) (cpuPlatform = \"Intel Skylake\")``\n",
      " |          By default, each expression is an ``AND`` expression.\n",
      " |          However, you can include ``AND`` and ``OR`` expressions\n",
      " |          explicitly. For example:\n",
      " |          ``(cpuPlatform = \"Intel Skylake\") OR (cpuPlatform = \"Intel Broadwell\") AND (scheduling.automaticRestart = true)``\n",
      " |          If you want to use a regular expression, use the ``eq``\n",
      " |          (equal) or ``ne`` (not equal) operator against a single\n",
      " |          un-parenthesized expression with or without quotes or\n",
      " |          against multiple parenthesized expressions. Examples:\n",
      " |          ``fieldname eq unquoted literal``\n",
      " |          ``fieldname eq 'single quoted literal'``\n",
      " |          ``fieldname eq \"double quoted literal\"``\n",
      " |          ``(fieldname1 eq literal) (fieldname2 ne \"literal\")`` The\n",
      " |          literal value is interpreted as a regular expression using\n",
      " |          Google RE2 library syntax. The literal value must match the\n",
      " |          entire field. For example, to filter for instances that do\n",
      " |          not end with name \"instance\", you would use\n",
      " |          ``name ne .*instance``.\n",
      " |  \n",
      " |          This field is a member of `oneof`_ ``_filter``.\n",
      " |      max_results (int):\n",
      " |          The maximum number of results per page that should be\n",
      " |          returned. If the number of available results is larger than\n",
      " |          ``maxResults``, Compute Engine returns a ``nextPageToken``\n",
      " |          that can be used to get the next page of results in\n",
      " |          subsequent list requests. Acceptable values are ``0`` to\n",
      " |          ``500``, inclusive. (Default: ``500``)\n",
      " |  \n",
      " |          This field is a member of `oneof`_ ``_max_results``.\n",
      " |      order_by (str):\n",
      " |          Sorts list results by a certain order. By default, results\n",
      " |          are returned in alphanumerical order based on the resource\n",
      " |          name. You can also sort results in descending order based on\n",
      " |          the creation timestamp using\n",
      " |          ``orderBy=\"creationTimestamp desc\"``. This sorts results\n",
      " |          based on the ``creationTimestamp`` field in reverse\n",
      " |          chronological order (newest result first). Use this to sort\n",
      " |          resources like operations so that the newest operation is\n",
      " |          returned first. Currently, only sorting by ``name`` or\n",
      " |          ``creationTimestamp desc`` is supported.\n",
      " |  \n",
      " |          This field is a member of `oneof`_ ``_order_by``.\n",
      " |      page_token (str):\n",
      " |          Specifies a page token to use. Set ``pageToken`` to the\n",
      " |          ``nextPageToken`` returned by a previous list request to get\n",
      " |          the next page of results.\n",
      " |  \n",
      " |          This field is a member of `oneof`_ ``_page_token``.\n",
      " |      project (str):\n",
      " |          Project ID for this request.\n",
      " |      return_partial_success (bool):\n",
      " |          Opt-in for partial success behavior which\n",
      " |          provides partial results in case of failure. The\n",
      " |          default value is false.\n",
      " |  \n",
      " |          This field is a member of `oneof`_ ``_return_partial_success``.\n",
      " |      zone (str):\n",
      " |          The name of the zone where the instance group\n",
      " |          is located.\n",
      " |  \n",
      " |  Method resolution order:\n",
      " |      ListInstanceGroupsRequest\n",
      " |      proto.message.Message\n",
      " |      builtins.object\n",
      " |  \n",
      " |  Data and other attributes defined here:\n",
      " |  \n",
      " |  __base__ = <class 'proto.message.Message'>\n",
      " |      The abstract base class for a message.\n",
      " |      \n",
      " |      Args:\n",
      " |          mapping (Union[dict, ~.Message]): A dictionary or message to be\n",
      " |              used to determine the values for this message.\n",
      " |          ignore_unknown_fields (Optional(bool)): If True, do not raise errors for\n",
      " |              unknown fields. Only applied if `mapping` is a mapping type or there\n",
      " |              are keyword parameters.\n",
      " |          kwargs (dict): Keys and values corresponding to the fields of the\n",
      " |              message.\n",
      " |  \n",
      " |  __bases__ = (<class 'proto.message.Message'>,)\n",
      " |  \n",
      " |  __mro__ = (<class 'google.cloud.compute_v1.types.compute.ListInstanceG...\n",
      " |  \n",
      " |  ----------------------------------------------------------------------\n",
      " |  Methods inherited from proto.message.Message:\n",
      " |  \n",
      " |  __delattr__(self, key)\n",
      " |      Delete the value on the given field.\n",
      " |      \n",
      " |      This is generally equivalent to setting a falsy value.\n",
      " |  \n",
      " |  __dir__(self)\n",
      " |      Default dir() implementation.\n",
      " |  \n",
      " |  __eq__(self, other)\n",
      " |      Return True if the messages are equal, False otherwise.\n",
      " |  \n",
      " |  __init__(self, mapping=None, *, ignore_unknown_fields=False, **kwargs)\n",
      " |      Initialize self.  See help(type(self)) for accurate signature.\n",
      " |  \n",
      " |  __ne__(self, other)\n",
      " |      Return True if the messages are unequal, False otherwise.\n",
      " |  \n",
      " |  __repr__(self)\n",
      " |      Return repr(self).\n",
      " |  \n",
      " |  __setattr__(self, key, value)\n",
      " |      Set the value on the given field.\n",
      " |      \n",
      " |      For well-known protocol buffer types which are marshalled, either\n",
      " |      the protocol buffer object or the Python equivalent is accepted.\n",
      " |  \n",
      " |  ----------------------------------------------------------------------\n",
      " |  Data descriptors inherited from proto.message.Message:\n",
      " |  \n",
      " |  __dict__\n",
      " |      dictionary for instance variables (if defined)\n",
      " |  \n",
      " |  ----------------------------------------------------------------------\n",
      " |  Data and other attributes inherited from proto.message.Message:\n",
      " |  \n",
      " |  __basicsize__ = 32\n",
      " |  \n",
      " |  __dictoffset__ = 16\n",
      " |  \n",
      " |  __hash__ = None\n",
      " |  \n",
      " |  __text_signature__ = None\n",
      " |  \n",
      " |  __weakrefoffset__ = 24\n",
      " |  \n",
      " |  ----------------------------------------------------------------------\n",
      " |  Methods inherited from proto.message.MessageMeta:\n",
      " |  \n",
      " |  copy_from(instance, other) from proto.message.AttrsMeta\n",
      " |      Equivalent for protobuf.Message.CopyFrom\n",
      " |      \n",
      " |      Args:\n",
      " |          instance: An instance of this message type\n",
      " |          other: (Union[dict, ~.Message):\n",
      " |              A dictionary or message to reinitialize the values for this message.\n",
      " |  \n",
      " |  deserialize(payload: bytes) -> 'Message' from proto.message.AttrsMeta\n",
      " |      Given a serialized proto, deserialize it into a Message instance.\n",
      " |      \n",
      " |      Args:\n",
      " |          payload (bytes): The serialized proto.\n",
      " |      \n",
      " |      Returns:\n",
      " |          ~.Message: An instance of the message class against which this\n",
      " |          method was called.\n",
      " |  \n",
      " |  from_json(payload, *, ignore_unknown_fields=False) -> 'Message' from proto.message.AttrsMeta\n",
      " |      Given a json string representing an instance,\n",
      " |      parse it into a message.\n",
      " |      \n",
      " |      Args:\n",
      " |          paylod: A json string representing a message.\n",
      " |          ignore_unknown_fields (Optional(bool)): If True, do not raise errors\n",
      " |              for unknown fields.\n",
      " |      \n",
      " |      Returns:\n",
      " |          ~.Message: An instance of the message class against which this\n",
      " |          method was called.\n",
      " |  \n",
      " |  pb(obj=None, *, coerce: bool = False) from proto.message.AttrsMeta\n",
      " |      Return the underlying protobuf Message class or instance.\n",
      " |      \n",
      " |      Args:\n",
      " |          obj: If provided, and an instance of ``cls``, return the\n",
      " |              underlying protobuf instance.\n",
      " |          coerce (bool): If provided, will attempt to coerce ``obj`` to\n",
      " |              ``cls`` if it is not already an instance.\n",
      " |  \n",
      " |  serialize(instance) -> bytes from proto.message.AttrsMeta\n",
      " |      Return the serialized proto.\n",
      " |      \n",
      " |      Args:\n",
      " |          instance: An instance of this message type, or something\n",
      " |              compatible (accepted by the type's constructor).\n",
      " |      \n",
      " |      Returns:\n",
      " |          bytes: The serialized representation of the protocol buffer.\n",
      " |  \n",
      " |  to_dict(instance, *, use_integers_for_enums=True, preserving_proto_field_name=True, including_default_value_fields=True) -> 'Message' from proto.message.AttrsMeta\n",
      " |      Given a message instance, return its representation as a python dict.\n",
      " |      \n",
      " |      Args:\n",
      " |          instance: An instance of this message type, or something\n",
      " |                    compatible (accepted by the type's constructor).\n",
      " |          use_integers_for_enums (Optional(bool)): An option that determines whether enum\n",
      " |              values should be represented by strings (False) or integers (True).\n",
      " |              Default is True.\n",
      " |          preserving_proto_field_name (Optional(bool)): An option that\n",
      " |              determines whether field name representations preserve\n",
      " |              proto case (snake_case) or use lowerCamelCase. Default is True.\n",
      " |          including_default_value_fields (Optional(bool)): An option that\n",
      " |              determines whether the default field values should be included in the results.\n",
      " |              Default is True.\n",
      " |      \n",
      " |      Returns:\n",
      " |          dict: A representation of the protocol buffer using pythonic data structures.\n",
      " |                Messages and map fields are represented as dicts,\n",
      " |                repeated fields are represented as lists.\n",
      " |  \n",
      " |  to_json(instance, *, use_integers_for_enums=True, including_default_value_fields=True, preserving_proto_field_name=False) -> str from proto.message.AttrsMeta\n",
      " |      Given a message instance, serialize it to json\n",
      " |      \n",
      " |      Args:\n",
      " |          instance: An instance of this message type, or something\n",
      " |              compatible (accepted by the type's constructor).\n",
      " |          use_integers_for_enums (Optional(bool)): An option that determines whether enum\n",
      " |              values should be represented by strings (False) or integers (True).\n",
      " |              Default is True.\n",
      " |          preserving_proto_field_name (Optional(bool)): An option that\n",
      " |              determines whether field name representations preserve\n",
      " |              proto case (snake_case) or use lowerCamelCase. Default is False.\n",
      " |      \n",
      " |      Returns:\n",
      " |          str: The json string representation of the protocol buffer.\n",
      " |  \n",
      " |  wrap(pb) from proto.message.AttrsMeta\n",
      " |      Return a Message object that shallowly wraps the descriptor.\n",
      " |      \n",
      " |      Args:\n",
      " |          pb: A protocol buffer object, such as would be returned by\n",
      " |              :meth:`pb`.\n",
      " |  \n",
      " |  ----------------------------------------------------------------------\n",
      " |  Class methods inherited from proto.message.MessageMeta:\n",
      " |  \n",
      " |  __prepare__(name, bases, **kwargs) from builtins.type\n",
      " |      __prepare__() -> dict\n",
      " |      used to create the namespace for the class statement\n",
      " |  \n",
      " |  ----------------------------------------------------------------------\n",
      " |  Readonly properties inherited from proto.message.MessageMeta:\n",
      " |  \n",
      " |  meta\n",
      "\n"
     ]
    }
   ],
   "source": [
    "help(compute_v1.ListInstanceGroupsRequest)"
   ]
  },
  {
   "cell_type": "code",
   "execution_count": 28,
   "metadata": {},
   "outputs": [
    {
     "ename": "TypeError",
     "evalue": "Invalid constructor input for ListInstancesInstanceGroupsRequest: <class 'google.cloud.compute_v1.types.compute.ListInstanceGroupsRequest'>",
     "output_type": "error",
     "traceback": [
      "\u001b[0;31m---------------------------------------------------------------------------\u001b[0m",
      "\u001b[0;31mTypeError\u001b[0m                                 Traceback (most recent call last)",
      "\u001b[0;32m/var/folders/rc/9fkm75h56f9fvyc8_3137tdm00tgst/T/ipykernel_45895/3033066779.py\u001b[0m in \u001b[0;36m<module>\u001b[0;34m\u001b[0m\n\u001b[0;32m----> 1\u001b[0;31m \u001b[0mig_client\u001b[0m\u001b[0;34m.\u001b[0m\u001b[0mlist_instances\u001b[0m\u001b[0;34m(\u001b[0m\u001b[0mrequest\u001b[0m\u001b[0;34m=\u001b[0m\u001b[0mrequest\u001b[0m\u001b[0;34m)\u001b[0m\u001b[0;34m\u001b[0m\u001b[0;34m\u001b[0m\u001b[0m\n\u001b[0m",
      "\u001b[0;32m~/gcp/lib/python3.8/site-packages/google/cloud/compute_v1/services/instance_groups/client.py\u001b[0m in \u001b[0;36mlist_instances\u001b[0;34m(self, request, project, zone, instance_group, instance_groups_list_instances_request_resource, retry, timeout, metadata)\u001b[0m\n\u001b[1;32m   1517\u001b[0m         \u001b[0;31m# there are no flattened fields.\u001b[0m\u001b[0;34m\u001b[0m\u001b[0;34m\u001b[0m\u001b[0;34m\u001b[0m\u001b[0m\n\u001b[1;32m   1518\u001b[0m         \u001b[0;32mif\u001b[0m \u001b[0;32mnot\u001b[0m \u001b[0misinstance\u001b[0m\u001b[0;34m(\u001b[0m\u001b[0mrequest\u001b[0m\u001b[0;34m,\u001b[0m \u001b[0mcompute\u001b[0m\u001b[0;34m.\u001b[0m\u001b[0mListInstancesInstanceGroupsRequest\u001b[0m\u001b[0;34m)\u001b[0m\u001b[0;34m:\u001b[0m\u001b[0;34m\u001b[0m\u001b[0;34m\u001b[0m\u001b[0m\n\u001b[0;32m-> 1519\u001b[0;31m             \u001b[0mrequest\u001b[0m \u001b[0;34m=\u001b[0m \u001b[0mcompute\u001b[0m\u001b[0;34m.\u001b[0m\u001b[0mListInstancesInstanceGroupsRequest\u001b[0m\u001b[0;34m(\u001b[0m\u001b[0mrequest\u001b[0m\u001b[0;34m)\u001b[0m\u001b[0;34m\u001b[0m\u001b[0;34m\u001b[0m\u001b[0m\n\u001b[0m\u001b[1;32m   1520\u001b[0m             \u001b[0;31m# If we have keyword arguments corresponding to fields on the\u001b[0m\u001b[0;34m\u001b[0m\u001b[0;34m\u001b[0m\u001b[0;34m\u001b[0m\u001b[0m\n\u001b[1;32m   1521\u001b[0m             \u001b[0;31m# request, apply these.\u001b[0m\u001b[0;34m\u001b[0m\u001b[0;34m\u001b[0m\u001b[0;34m\u001b[0m\u001b[0m\n",
      "\u001b[0;32m~/gcp/lib/python3.8/site-packages/proto/message.py\u001b[0m in \u001b[0;36m__init__\u001b[0;34m(self, mapping, ignore_unknown_fields, **kwargs)\u001b[0m\n\u001b[1;32m    540\u001b[0m         \u001b[0;32melse\u001b[0m\u001b[0;34m:\u001b[0m\u001b[0;34m\u001b[0m\u001b[0;34m\u001b[0m\u001b[0m\n\u001b[1;32m    541\u001b[0m             \u001b[0;31m# Sanity check: Did we get something not a map? Error if so.\u001b[0m\u001b[0;34m\u001b[0m\u001b[0;34m\u001b[0m\u001b[0;34m\u001b[0m\u001b[0m\n\u001b[0;32m--> 542\u001b[0;31m             raise TypeError(\n\u001b[0m\u001b[1;32m    543\u001b[0m                 \u001b[0;34m\"Invalid constructor input for %s: %r\"\u001b[0m\u001b[0;34m\u001b[0m\u001b[0;34m\u001b[0m\u001b[0m\n\u001b[1;32m    544\u001b[0m                 % (\n",
      "\u001b[0;31mTypeError\u001b[0m: Invalid constructor input for ListInstancesInstanceGroupsRequest: <class 'google.cloud.compute_v1.types.compute.ListInstanceGroupsRequest'>"
     ]
    }
   ],
   "source": [
    "ig_client.list_instances(request=request)"
   ]
  },
  {
   "cell_type": "code",
   "execution_count": null,
   "metadata": {},
   "outputs": [],
   "source": []
  }
 ],
 "metadata": {
  "kernelspec": {
   "display_name": "Python 3.8.13 64-bit",
   "language": "python",
   "name": "python3"
  },
  "language_info": {
   "codemirror_mode": {
    "name": "ipython",
    "version": 3
   },
   "file_extension": ".py",
   "mimetype": "text/x-python",
   "name": "python",
   "nbconvert_exporter": "python",
   "pygments_lexer": "ipython3",
   "version": "3.8.13"
  },
  "orig_nbformat": 4,
  "vscode": {
   "interpreter": {
    "hash": "a5a681d640370691eeb51db831b2d1f8e802346c4c7b7120f453924da6d7895d"
   }
  }
 },
 "nbformat": 4,
 "nbformat_minor": 2
}
